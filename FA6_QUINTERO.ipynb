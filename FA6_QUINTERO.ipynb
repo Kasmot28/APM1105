{
 "cells": [
  {
   "cell_type": "code",
   "execution_count": 36,
   "id": "7df43fbc",
   "metadata": {},
   "outputs": [
    {
     "name": "stdout",
     "output_type": "stream",
     "text": [
      "enter base: -3\n",
      "enter exponent: 3\n",
      "Answer:  -27\n",
      "Rendering Time:  0.0  Seconds\n"
     ]
    }
   ],
   "source": [
    "import time \n",
    "coefficient = int(input(\"enter base: \"))\n",
    "exponent = int(input(\"enter exponent: \"))\n",
    "\n",
    "def recursive_exponent(coefficient, exponent):\n",
    "    if exponent == 0:\n",
    "        return 1;\n",
    "    else:\n",
    "        return coefficient * recursive_exponent(coefficient, exponent - 1)\n",
    "\n",
    "start_time = time.time()\n",
    "\n",
    "result = recursive_exponent(coefficient, exponent)\n",
    "\n",
    "end_time = time.time()\n",
    "\n",
    "print(\"Answer: \", result)\n",
    "print(\"Rendering Time: \", end_time - start_time, \" Seconds\")"
   ]
  },
  {
   "cell_type": "code",
   "execution_count": 8,
   "id": "a02fc782",
   "metadata": {},
   "outputs": [
    {
     "name": "stdout",
     "output_type": "stream",
     "text": [
      "Enter the base: 4\n",
      "Enter the exponent: 4\n",
      "Answer:  256\n",
      "Rendering Time:  0.0  Seconds\n"
     ]
    }
   ],
   "source": [
    "import time\n",
    "\n",
    "def iterative_exponent(coefficient, exponent):\n",
    "    result = 1\n",
    "    start_time = time.time()\n",
    "    for i in range(exponent):\n",
    "        result *= coefficient\n",
    "    end_time = time.time()\n",
    "    return result, end_time - start_time\n",
    "\n",
    "coefficient = int(input(\"Enter the base: \"))\n",
    "exponent = int(input(\"Enter the exponent: \"))\n",
    "\n",
    "result, time_taken = iterative_exponent(coefficient, exponent)\n",
    "\n",
    "print(\"Answer: \", result)\n",
    "print(\"Rendering Time: \", end_time - start_time, \" Seconds\")"
   ]
  },
  {
   "cell_type": "markdown",
   "id": "d9f03853",
   "metadata": {},
   "source": [
    "Iteration is faster and more efficient than recursion. Since iteration repeats what it is doing while recursion needs to call itself, that's why iteration is faster than recursion."
   ]
  },
  {
   "cell_type": "code",
   "execution_count": 44,
   "id": "96c1c423",
   "metadata": {},
   "outputs": [
    {
     "name": "stdout",
     "output_type": "stream",
     "text": [
      "Enter n number: 6\n",
      "Iterative sum is: 63\n",
      "Rendering Time: 0.0 seconds\n"
     ]
    }
   ],
   "source": [
    "import time \n",
    "\n",
    "def sum_iterative(n):\n",
    "    start_time = time.time()\n",
    "    result = 0\n",
    "    for i in range(n):\n",
    "        result += 2**i\n",
    "    end_time = time.time()\n",
    "    return result, end_time - start_time\n",
    "\n",
    "n = int(input(\"Enter n number: \"))\n",
    "result, time_taken = sum_iterative(n)\n",
    "\n",
    "print(f\"Iterative sum is: {result}\")\n",
    "print(f\"Rendering Time: {time_taken} seconds\")\n",
    "    "
   ]
  },
  {
   "cell_type": "code",
   "execution_count": 45,
   "id": "dddfba1d",
   "metadata": {},
   "outputs": [
    {
     "name": "stdout",
     "output_type": "stream",
     "text": [
      "Enter n number: 20\n",
      "Recursive sum is: 1048575\n",
      "Rendering Time: 0.0 seconds\n"
     ]
    }
   ],
   "source": [
    "import time\n",
    "\n",
    "def sum_power_recursive(n):\n",
    "    start_time = time.time()\n",
    "    if n == 0:\n",
    "        end_time = time.time()\n",
    "        rendering_time = end_time - start_time\n",
    "        return 0, rendering_time\n",
    "    else:\n",
    "        result, _ = sum_power_recursive(n-1)\n",
    "        result += 2**(n-1)\n",
    "        end_time = time.time()\n",
    "        rendering_time = end_time - start_time\n",
    "        return result, rendering_time\n",
    "\n",
    "n = int(input(\"Enter n number: \"))\n",
    "sum_recursive, time_recursive = sum_power_recursive(n)\n",
    "print(f\"Recursive sum is: {sum_recursive}\")\n",
    "print(f\"Rendering Time: {time_recursive} seconds\")\n",
    "sum_recursive, time_recursive = sum_power_recursive(n)\n"
   ]
  },
  {
   "cell_type": "code",
   "execution_count": 46,
   "id": "6ce4ee3e",
   "metadata": {},
   "outputs": [
    {
     "name": "stdout",
     "output_type": "stream",
     "text": [
      "Enter the value of n: 20\n",
      "Recursive sum of first 20 powers of 2: 1048575\n",
      "Recursive function rendering time: 0.0000000000 seconds\n",
      "\n"
     ]
    }
   ],
   "source": [
    "import time\n",
    "\n",
    "def sum_powers_of_2_rec(n):\n",
    "    start_time = time.time()\n",
    "    if n == 0:\n",
    "        return 0, time.time() - start_time\n",
    "    else:\n",
    "        sum, render_time = sum_powers_of_2_rec(n-1)\n",
    "        sum += 2 ** (n-1)\n",
    "        end_time = time.time()\n",
    "        return sum, end_time - start_time + render_time\n",
    "    \n",
    "n = int(input(\"Enter the value of n: \"))\n",
    "rec_sum, rec_time = sum_powers_of_2_rec(n)\n",
    "\n",
    "print(f\"Recursive sum of first {n} powers of 2: {rec_sum}\")\n",
    "print(f\"Recursive function rendering time: {rec_time:.10f} seconds\\n\")"
   ]
  },
  {
   "cell_type": "markdown",
   "id": "ce1d81cf",
   "metadata": {},
   "source": [
    "Iteration is faster and more efficient than recursion. Since iteration is always zero in its rendering time, while recursion is not consistent in its rendering time, sometimes it is slow and sometimes it is faster. The reason is that due to the overhead function calls and control shift from one function to another that requires extra memory for each recursive calls."
   ]
  }
 ],
 "metadata": {
  "kernelspec": {
   "display_name": "Python 3 (ipykernel)",
   "language": "python",
   "name": "python3"
  },
  "language_info": {
   "codemirror_mode": {
    "name": "ipython",
    "version": 3
   },
   "file_extension": ".py",
   "mimetype": "text/x-python",
   "name": "python",
   "nbconvert_exporter": "python",
   "pygments_lexer": "ipython3",
   "version": "3.11.2"
  }
 },
 "nbformat": 4,
 "nbformat_minor": 5
}
