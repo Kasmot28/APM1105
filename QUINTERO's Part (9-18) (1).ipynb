{
 "cells": [
  {
   "cell_type": "code",
   "execution_count": 30,
   "id": "ecdfd1e4",
   "metadata": {},
   "outputs": [
    {
     "data": {
      "text/html": [
       "<div>\n",
       "<style scoped>\n",
       "    .dataframe tbody tr th:only-of-type {\n",
       "        vertical-align: middle;\n",
       "    }\n",
       "\n",
       "    .dataframe tbody tr th {\n",
       "        vertical-align: top;\n",
       "    }\n",
       "\n",
       "    .dataframe thead th {\n",
       "        text-align: right;\n",
       "    }\n",
       "</style>\n",
       "<table border=\"1\" class=\"dataframe\">\n",
       "  <thead>\n",
       "    <tr style=\"text-align: right;\">\n",
       "      <th></th>\n",
       "      <th>year</th>\n",
       "      <th>state</th>\n",
       "      <th>month</th>\n",
       "      <th>number</th>\n",
       "      <th>date</th>\n",
       "    </tr>\n",
       "  </thead>\n",
       "  <tbody>\n",
       "    <tr>\n",
       "      <th>0</th>\n",
       "      <td>1998</td>\n",
       "      <td>Acre</td>\n",
       "      <td>Janeiro</td>\n",
       "      <td>0.0</td>\n",
       "      <td>1998-01-01</td>\n",
       "    </tr>\n",
       "    <tr>\n",
       "      <th>1</th>\n",
       "      <td>1999</td>\n",
       "      <td>Acre</td>\n",
       "      <td>Janeiro</td>\n",
       "      <td>0.0</td>\n",
       "      <td>1999-01-01</td>\n",
       "    </tr>\n",
       "    <tr>\n",
       "      <th>2</th>\n",
       "      <td>2000</td>\n",
       "      <td>Acre</td>\n",
       "      <td>Janeiro</td>\n",
       "      <td>0.0</td>\n",
       "      <td>2000-01-01</td>\n",
       "    </tr>\n",
       "    <tr>\n",
       "      <th>3</th>\n",
       "      <td>2001</td>\n",
       "      <td>Acre</td>\n",
       "      <td>Janeiro</td>\n",
       "      <td>0.0</td>\n",
       "      <td>2001-01-01</td>\n",
       "    </tr>\n",
       "    <tr>\n",
       "      <th>4</th>\n",
       "      <td>2002</td>\n",
       "      <td>Acre</td>\n",
       "      <td>Janeiro</td>\n",
       "      <td>0.0</td>\n",
       "      <td>2002-01-01</td>\n",
       "    </tr>\n",
       "    <tr>\n",
       "      <th>...</th>\n",
       "      <td>...</td>\n",
       "      <td>...</td>\n",
       "      <td>...</td>\n",
       "      <td>...</td>\n",
       "      <td>...</td>\n",
       "    </tr>\n",
       "    <tr>\n",
       "      <th>6449</th>\n",
       "      <td>2012</td>\n",
       "      <td>Tocantins</td>\n",
       "      <td>Dezembro</td>\n",
       "      <td>128.0</td>\n",
       "      <td>2012-01-01</td>\n",
       "    </tr>\n",
       "    <tr>\n",
       "      <th>6450</th>\n",
       "      <td>2013</td>\n",
       "      <td>Tocantins</td>\n",
       "      <td>Dezembro</td>\n",
       "      <td>85.0</td>\n",
       "      <td>2013-01-01</td>\n",
       "    </tr>\n",
       "    <tr>\n",
       "      <th>6451</th>\n",
       "      <td>2014</td>\n",
       "      <td>Tocantins</td>\n",
       "      <td>Dezembro</td>\n",
       "      <td>223.0</td>\n",
       "      <td>2014-01-01</td>\n",
       "    </tr>\n",
       "    <tr>\n",
       "      <th>6452</th>\n",
       "      <td>2015</td>\n",
       "      <td>Tocantins</td>\n",
       "      <td>Dezembro</td>\n",
       "      <td>373.0</td>\n",
       "      <td>2015-01-01</td>\n",
       "    </tr>\n",
       "    <tr>\n",
       "      <th>6453</th>\n",
       "      <td>2016</td>\n",
       "      <td>Tocantins</td>\n",
       "      <td>Dezembro</td>\n",
       "      <td>119.0</td>\n",
       "      <td>2016-01-01</td>\n",
       "    </tr>\n",
       "  </tbody>\n",
       "</table>\n",
       "<p>6454 rows × 5 columns</p>\n",
       "</div>"
      ],
      "text/plain": [
       "      year      state     month  number        date\n",
       "0     1998       Acre   Janeiro     0.0  1998-01-01\n",
       "1     1999       Acre   Janeiro     0.0  1999-01-01\n",
       "2     2000       Acre   Janeiro     0.0  2000-01-01\n",
       "3     2001       Acre   Janeiro     0.0  2001-01-01\n",
       "4     2002       Acre   Janeiro     0.0  2002-01-01\n",
       "...    ...        ...       ...     ...         ...\n",
       "6449  2012  Tocantins  Dezembro   128.0  2012-01-01\n",
       "6450  2013  Tocantins  Dezembro    85.0  2013-01-01\n",
       "6451  2014  Tocantins  Dezembro   223.0  2014-01-01\n",
       "6452  2015  Tocantins  Dezembro   373.0  2015-01-01\n",
       "6453  2016  Tocantins  Dezembro   119.0  2016-01-01\n",
       "\n",
       "[6454 rows x 5 columns]"
      ]
     },
     "execution_count": 30,
     "metadata": {},
     "output_type": "execute_result"
    }
   ],
   "source": [
    "import pandas as pd\n",
    "import numpy as np\n",
    "import matplotlib.pyplot as plt\n",
    "import seaborn as sns\n",
    "\n",
    "\n",
    "df = pd.read_csv('C:\\\\Users\\\\Ella\\\\Downloads\\\\amazon.csv',encoding = \"ISO-8859-1\")\n",
    "df"
   ]
  },
  {
   "cell_type": "code",
   "execution_count": 53,
   "id": "e381f03b",
   "metadata": {},
   "outputs": [
    {
     "data": {
      "text/plain": [
       "'July'"
      ]
     },
     "execution_count": 53,
     "metadata": {},
     "output_type": "execute_result"
    }
   ],
   "source": [
    "#10\n",
    "month_map = {\n",
    "    'Janeiro': 'January',\n",
    "    'Fevereiro': 'February',\n",
    "    'Março': 'March',\n",
    "    'Abril': 'April',\n",
    "    'Maio': 'May',\n",
    "    'Junho': 'June',\n",
    "    'Julho': 'July',\n",
    "    'Agosto': 'August',\n",
    "    'Setembro': 'September',\n",
    "    'Outubro': 'October',\n",
    "    'Novembro': 'November',\n",
    "    'Dezembro': 'December'\n",
    "}\n",
    "\n",
    "df['month'].replace(month_map, inplace=True)\n",
    "\n",
    "pivot2=pivot2['number'].idxmax()\n",
    "pivot2\n",
    "\n",
    "\n"
   ]
  },
  {
   "cell_type": "code",
   "execution_count": 69,
   "id": "e5d80d65",
   "metadata": {},
   "outputs": [
    {
     "data": {
      "text/plain": [
       "2003"
      ]
     },
     "execution_count": 69,
     "metadata": {},
     "output_type": "execute_result"
    }
   ],
   "source": [
    "#11\n",
    "pivot1 = pivot1['number'].idxmax()\n",
    "pivot1\n",
    "# Sir kaya po ganto yung code is kinuha muna namin yung table ng number and year na recorded sa mga years na nag passed, \n",
    "# after that po pinalitan ko yung code na nakaequal sa pivot 1 ng pivot1['number'].idmax() para makuha po yung years\n",
    "#na may pinakamataas na record ganun rin po sa states which is number 12."
   ]
  },
  {
   "cell_type": "code",
   "execution_count": 96,
   "id": "dbd4d23e",
   "metadata": {},
   "outputs": [
    {
     "data": {
      "text/plain": [
       "'Mato Grosso'"
      ]
     },
     "execution_count": 96,
     "metadata": {},
     "output_type": "execute_result"
    }
   ],
   "source": [
    "#12\n",
    "pivot3 = pivot3['number'].idxmax()\n",
    "pivot3\n",
    "\n"
   ]
  },
  {
   "cell_type": "code",
   "execution_count": 109,
   "id": "4165ed21",
   "metadata": {},
   "outputs": [
    {
     "data": {
      "text/plain": [
       "30650.129"
      ]
     },
     "execution_count": 109,
     "metadata": {},
     "output_type": "execute_result"
    }
   ],
   "source": [
    "#13\n",
    "fire_recorded_amazonas = df.loc[df['state'] == 'Amazonas', 'number'].sum()\n",
    "fire_recorded_amazonas\n",
    "\n"
   ]
  },
  {
   "cell_type": "code",
   "execution_count": 114,
   "id": "fd83a20f",
   "metadata": {},
   "outputs": [
    {
     "name": "stdout",
     "output_type": "stream",
     "text": [
      "year\n",
      "1998     946.000\n",
      "1999    1061.000\n",
      "2000     853.000\n",
      "2001    1297.000\n",
      "2002    2852.000\n",
      "2003    1524.268\n",
      "2004    2298.207\n",
      "2005    1657.128\n",
      "2006     997.640\n",
      "2007     589.601\n",
      "2008    2717.000\n",
      "2009    1320.601\n",
      "2010    2324.508\n",
      "2011    1652.538\n",
      "2012    1110.641\n",
      "2013     905.217\n",
      "2014    2385.909\n",
      "2015    1189.994\n",
      "2016    2060.972\n",
      "2017     906.905\n",
      "Name: number, dtype: float64\n"
     ]
    }
   ],
   "source": [
    "#14\n",
    "amazonas_fire_recorded_yearly = df.loc[df['state'] == 'Amazonas'].groupby('year')['number'].sum()\n",
    "print(amazonas_fire_recorded_yearly)"
   ]
  },
  {
   "cell_type": "code",
   "execution_count": 115,
   "id": "15f690c0",
   "metadata": {},
   "outputs": [
    {
     "name": "stdout",
     "output_type": "stream",
     "text": [
      "date\n",
      "1998-01-01     946.000\n",
      "1999-01-01    1061.000\n",
      "2000-01-01     853.000\n",
      "2001-01-01    1297.000\n",
      "2002-01-01    2852.000\n",
      "2003-01-01    1524.268\n",
      "2004-01-01    2298.207\n",
      "2005-01-01    1657.128\n",
      "2006-01-01     997.640\n",
      "2007-01-01     589.601\n",
      "2008-01-01    2717.000\n",
      "2009-01-01    1320.601\n",
      "2010-01-01    2324.508\n",
      "2011-01-01    1652.538\n",
      "2012-01-01    1110.641\n",
      "2013-01-01     905.217\n",
      "2014-01-01    2385.909\n",
      "2015-01-01    1189.994\n",
      "2016-01-01    2060.972\n",
      "2017-01-01     906.905\n",
      "Name: number, dtype: float64\n"
     ]
    }
   ],
   "source": [
    "#15\n",
    "amazonas_fire_recorded_days = df.loc[df['state'] == 'Amazonas'].groupby('date')['number'].sum()\n",
    "print(amazonas_fire_recorded_days)"
   ]
  },
  {
   "cell_type": "code",
   "execution_count": 117,
   "id": "fd7668ee",
   "metadata": {},
   "outputs": [
    {
     "data": {
      "text/plain": [
       "<Axes: title={'center': 'Number of Fires Reported in 2015 (Monthly)'}, xlabel='Month', ylabel='Number of Fires'>"
      ]
     },
     "execution_count": 117,
     "metadata": {},
     "output_type": "execute_result"
    },
    {
     "data": {
      "image/png": "[encoded data removed]",
      "text/plain": [
       "<Figure size 640x480 with 1 Axes>"
      ]
     },
     "metadata": {},
     "output_type": "display_data"
    }
   ],
   "source": [
    "#16\n",
    "df_2015 = df[df['year'] == 2015]\n",
    "records_2015 = df_2015.groupby('month')['number'].sum()\n",
    "records_2015.plot(kind='bar', xlabel='Month', ylabel='Number of Fires', title='Number of Fires Reported in 2015 (Monthly)')\n"
   ]
  },
  {
   "cell_type": "code",
   "execution_count": 118,
   "id": "6950f287",
   "metadata": {},
   "outputs": [
    {
     "name": "stdout",
     "output_type": "stream",
     "text": [
      "state\n",
      "Sao Paulo           213.896226\n",
      "Mato Grosso         201.351523\n",
      "Bahia               187.222703\n",
      "Piau                158.174674\n",
      "Goias               157.721841\n",
      "Minas Gerais        156.800243\n",
      "Tocantins           141.037176\n",
      "Amazonas            128.243218\n",
      "Ceara               127.314071\n",
      "Paraiba             109.698573\n",
      "Maranhao            105.142808\n",
      "Pará                102.561272\n",
      "Pernambuco          102.502092\n",
      "Roraima             102.029598\n",
      "Santa Catarina      101.924067\n",
      "Amapa                91.345506\n",
      "Rondonia             84.876272\n",
      "Acre                 77.255356\n",
      "Rio                  62.985865\n",
      "Espirito Santo       27.389121\n",
      "Alagoas              19.350000\n",
      "Distrito Federal     14.899582\n",
      "Sergipe              13.543933\n",
      "Name: number, dtype: float64\n"
     ]
    }
   ],
   "source": [
    "#17\n",
    "highest_to_lowest = df.groupby('state')['number'].mean()\n",
    "highest_to_lowest = highest_to_lowest.sort_values(ascending=False)\n",
    "print(highest_to_lowest)"
   ]
  },
  {
   "cell_type": "code",
   "execution_count": 122,
   "id": "ea7da3fc",
   "metadata": {},
   "outputs": [
    {
     "name": "stdout",
     "output_type": "stream",
     "text": [
      "Acre\n",
      "Alagoas\n",
      "Amapa\n",
      "Amazonas\n",
      "Bahia\n",
      "Ceara\n",
      "Distrito Federal\n",
      "Espirito Santo\n",
      "Goias\n",
      "Maranhao\n",
      "Mato Grosso\n",
      "Minas Gerais\n",
      "Pará\n",
      "Paraiba\n",
      "Pernambuco\n",
      "Piau\n",
      "Rio\n",
      "Rondonia\n",
      "Roraima\n",
      "Santa Catarina\n",
      "Sao Paulo\n",
      "Sergipe\n",
      "Tocantins\n"
     ]
    }
   ],
   "source": [
    "#18\n",
    "december_fires_states = df.loc[df['month'] == 'December', 'state'].unique()\n",
    "for state in december_fires_states:\n",
    "    print(state)\n"
   ]
  },
  {
   "cell_type": "code",
   "execution_count": null,
   "id": "2960e636",
   "metadata": {},
   "outputs": [],
   "source": []
  }
 ],
 "metadata": {
  "kernelspec": {
   "display_name": "Python 3 (ipykernel)",
   "language": "python",
   "name": "python3"
  },
  "language_info": {
   "codemirror_mode": {
    "name": "ipython",
    "version": 3
   },
   "file_extension": ".py",
   "mimetype": "text/x-python",
   "name": "python",
   "nbconvert_exporter": "python",
   "pygments_lexer": "ipython3",
   "version": "3.11.2"
  }
 },
 "nbformat": 4,
 "nbformat_minor": 5
}
