{
 "cells": [
  {
   "cell_type": "code",
   "execution_count": 28,
   "id": "60fdd22c",
   "metadata": {},
   "outputs": [
    {
     "name": "stdout",
     "output_type": "stream",
     "text": [
      "Dataset saved to file.\n"
     ]
    }
   ],
   "source": [
    "import requests\n",
    "\n",
    "# URL of the raw dataset file on GitHub\n",
    "url = 'https://raw.githubusercontent.com/AllenDowney/ThinkPython2/master/code/words.txt'\n",
    "\n",
    "# Send a GET request to the URL\n",
    "response = requests.get(url)\n",
    "\n",
    "# Check if the request was successful\n",
    "if response.status_code == 200:\n",
    "    # Save the content of the response to a file\n",
    "    with open('words.txt', 'wb') as f:\n",
    "        f.write(response.content)\n",
    "        print('Dataset saved to file.')\n",
    "else:\n",
    "      print('Failed to download dataset.')\n",
    "    "
   ]
  },
  {
   "cell_type": "markdown",
   "id": "780952fe",
   "metadata": {},
   "source": [
    "A.) Print the total number of words in the file."
   ]
  },
  {
   "cell_type": "code",
   "execution_count": 20,
   "id": "ef59e6ac",
   "metadata": {},
   "outputs": [
    {
     "name": "stdout",
     "output_type": "stream",
     "text": [
      "total number of words in the file: 113783\n"
     ]
    }
   ],
   "source": [
    "with open(\"words.txt\") as x:\n",
    "    total = [line.strip() for line in x]\n",
    "    print(\"total number of words in the file:\",len(total))"
   ]
  },
  {
   "cell_type": "markdown",
   "id": "56af64dd",
   "metadata": {},
   "source": [
    "B.) Print the longest word in the file."
   ]
  },
  {
   "cell_type": "code",
   "execution_count": 21,
   "id": "5e9e94ea",
   "metadata": {},
   "outputs": [
    {
     "name": "stdout",
     "output_type": "stream",
     "text": [
      "the longest word in the file is: counterdemonstrations\n"
     ]
    }
   ],
   "source": [
    "longest_word = max(total, key=len)\n",
    "print(\"the longest word in the file is:\",longest_word)"
   ]
  },
  {
   "cell_type": "markdown",
   "id": "a4b90daa",
   "metadata": {},
   "source": [
    "C.) Print the number of words that start with a certain letter (use user input)."
   ]
  },
  {
   "cell_type": "code",
   "execution_count": 23,
   "id": "ec0c395e",
   "metadata": {},
   "outputs": [
    {
     "name": "stdout",
     "output_type": "stream",
     "text": [
      "Enter a letter: g\n",
      "The number of words that start with g are 3950 words\n"
     ]
    }
   ],
   "source": [
    "first_letter = input(\"Enter a letter: \")\n",
    "with open(\"words.txt\", 'r') as f:\n",
    "    text = f.read()\n",
    "words = text.split()\n",
    "count = 0\n",
    "for word in words:\n",
    "    if word.startswith(first_letter):\n",
    "        count += 1\n",
    "print(\"The number of words that start with\",first_letter,\"are\",count,\"words\")"
   ]
  },
  {
   "cell_type": "markdown",
   "id": "a08b54e7",
   "metadata": {},
   "source": [
    "D.) Print all the words that contain a certain substring (use user input)."
   ]
  },
  {
   "cell_type": "code",
   "execution_count": 18,
   "id": "ba311814",
   "metadata": {},
   "outputs": [
    {
     "name": "stdout",
     "output_type": "stream",
     "text": [
      "Enter a word: you\n",
      "the word you contains these words:\n",
      "bayou\n",
      "bayous\n",
      "carryout\n",
      "carryouts\n",
      "grayout\n",
      "grayouts\n",
      "joyous\n",
      "joyously\n",
      "joyousness\n",
      "joyousnesses\n",
      "layout\n",
      "layouts\n",
      "poyou\n",
      "poyous\n",
      "tryout\n",
      "tryouts\n",
      "you\n",
      "young\n",
      "younger\n",
      "youngers\n",
      "youngest\n",
      "youngish\n",
      "youngs\n",
      "youngster\n",
      "youngsters\n",
      "younker\n",
      "younkers\n",
      "youpon\n",
      "youpons\n",
      "your\n",
      "yourn\n",
      "yours\n",
      "yourself\n",
      "yourselves\n",
      "youse\n",
      "youth\n",
      "youthen\n",
      "youthened\n",
      "youthening\n",
      "youthens\n",
      "youthful\n",
      "youthfully\n",
      "youthfulness\n",
      "youthfulnesses\n",
      "youths\n"
     ]
    }
   ],
   "source": [
    "substring = input(\"Enter a word: \")\n",
    "with open(\"words.txt\", 'r') as f:\n",
    "    text = f.read()\n",
    "words = text.split()\n",
    "substring_words = []\n",
    "for word in words:\n",
    "    if substring in word:\n",
    "        substring_words.append(word)\n",
    "print(\"the word\",substring,\"contains these words:\")\n",
    "for word in substring_words:\n",
    "    print(word)\n",
    "    "
   ]
  },
  {
   "cell_type": "markdown",
   "id": "d54876ed",
   "metadata": {},
   "source": [
    "E.) Print all the words that are palindromes (i.e., read the same backwards and forwards)."
   ]
  },
  {
   "cell_type": "code",
   "execution_count": 105,
   "id": "333fa4c9",
   "metadata": {},
   "outputs": [
    {
     "name": "stdout",
     "output_type": "stream",
     "text": [
      "aa\n",
      "aba\n",
      "aga\n",
      "aha\n",
      "ala\n",
      "alula\n",
      "ama\n",
      "ana\n",
      "anna\n",
      "ava\n",
      "awa\n",
      "bib\n",
      "bob\n",
      "boob\n",
      "bub\n",
      "civic\n",
      "dad\n",
      "deed\n",
      "deified\n",
      "deked\n",
      "deled\n",
      "denned\n",
      "dewed\n",
      "did\n",
      "dud\n",
      "eke\n",
      "eme\n",
      "ere\n",
      "eve\n",
      "ewe\n",
      "eye\n",
      "gag\n",
      "gig\n",
      "hah\n",
      "halalah\n",
      "hallah\n",
      "huh\n",
      "kaiak\n",
      "kayak\n",
      "keek\n",
      "kook\n",
      "level\n",
      "madam\n",
      "marram\n",
      "mem\n",
      "mim\n",
      "minim\n",
      "mom\n",
      "mum\n",
      "noon\n",
      "nun\n",
      "oho\n",
      "otto\n",
      "pap\n",
      "peep\n",
      "pep\n",
      "pip\n",
      "poop\n",
      "pop\n",
      "pup\n",
      "radar\n",
      "redder\n",
      "refer\n",
      "reifier\n",
      "repaper\n",
      "reviver\n",
      "rotator\n",
      "rotor\n",
      "sagas\n",
      "sees\n",
      "selles\n",
      "sememes\n",
      "semes\n",
      "seres\n",
      "sexes\n",
      "shahs\n",
      "sis\n",
      "solos\n",
      "sos\n",
      "stets\n",
      "tat\n",
      "tenet\n",
      "terret\n",
      "tit\n",
      "toot\n",
      "tot\n",
      "tut\n",
      "vav\n",
      "waw\n",
      "wow\n",
      "yay\n"
     ]
    }
   ],
   "source": [
    "def palindrome(word):\n",
    "    return word == word[::-1]\n",
    "\n",
    "with open(\"words.txt\", 'r') as file:\n",
    "    for line in file:\n",
    "        words = line.strip().split()\n",
    "        for word in words:\n",
    "            if palindrome(word):\n",
    "                print(word)"
   ]
  },
  {
   "cell_type": "markdown",
   "id": "d5108785",
   "metadata": {},
   "source": [
    "F.) Count the frequency of each letter. "
   ]
  },
  {
   "cell_type": "code",
   "execution_count": 125,
   "id": "5565ceaa",
   "metadata": {},
   "outputs": [
    {
     "name": "stdout",
     "output_type": "stream",
     "text": [
      "A: 68574\n",
      "H: 20186\n",
      "E: 106752\n",
      "D: 34548\n",
      "I: 77392\n",
      "N: 60505\n",
      "G: 27832\n",
      "S: 86526\n",
      "L: 47003\n",
      "R: 64963\n",
      "V: 9186\n",
      "K: 9366\n",
      "W: 8533\n",
      "O: 54538\n",
      "F: 12706\n",
      "B: 17794\n",
      "C: 34281\n",
      "U: 31151\n",
      "T: 57029\n",
      "M: 24739\n",
      "P: 25789\n",
      "Y: 13473\n",
      "X: 2700\n",
      "J: 1780\n",
      "Z: 3750\n",
      "Q: 1632\n"
     ]
    }
   ],
   "source": [
    "from collections import Counter\n",
    "\n",
    "with open('words.txt', 'r') as file:\n",
    "    letter_countings = Counter(letter.upper() for line in file for letter in line if letter.isalpha())\n",
    "\n",
    "for letter, count in letter_countings.items():\n",
    "    print(f\"{letter}: {count}\")\n",
    "            "
   ]
  },
  {
   "cell_type": "markdown",
   "id": "7146b706",
   "metadata": {},
   "source": [
    "2.) Write a program on the Fibonacci sequence using both iterations and recursion, and including rendering time to compare the performance of both approaches."
   ]
  },
  {
   "cell_type": "code",
   "execution_count": 36,
   "id": "c597b25c",
   "metadata": {},
   "outputs": [
    {
     "name": "stdout",
     "output_type": "stream",
     "text": [
      "Enter a value for n: 30\n",
      "Fibonacci Using Iteration:\n",
      "832040\n",
      "Rendering time: 0.0 seconds\n",
      "Fibonacci Using Recursion:\n",
      "832040\n",
      "Rendering time: 0.4752795696258545 seconds\n"
     ]
    }
   ],
   "source": [
    "import time\n",
    "\n",
    "\n",
    "def iterative_fibonacci(n):\n",
    "    if n <= 1:\n",
    "        return n\n",
    "\n",
    "    fib = [0, 1]\n",
    "    for i in range(2, n + 1):\n",
    "        fib.append(fib[i - 1] + fib[i - 2])\n",
    "    \n",
    "    return fib[n]\n",
    "\n",
    "\n",
    "def recursive_fibonacci(n):\n",
    "    if n <= 1:\n",
    "        return n\n",
    "    else:\n",
    "        return recursive_fibonacci(n - 1) + recursive_fibonacci(n - 2)\n",
    "\n",
    "\n",
    "def time_it(func, n):\n",
    "    start_time = time.time()\n",
    "    result = func(n)\n",
    "    end_time = time.time()\n",
    "    render_time = end_time - start_time\n",
    "    return result, render_time\n",
    "\n",
    "\n",
    "n = int(input(\"Enter a value for n: \"))\n",
    "\n",
    "\n",
    "print(\"Fibonacci Using Iteration:\")\n",
    "fib_iterative, render_time_iterative = time_it(iterative_fibonacci, n)\n",
    "print(fib_iterative)\n",
    "print(\"Rendering time:\",render_time_iterative, \"seconds\")\n",
    "\n",
    "print(\"Fibonacci Using Recursion:\")\n",
    "fib_recursive, render_time_recursive = time_it(recursive_fibonacci, n)\n",
    "print(fib_recursive)\n",
    "print(\"Rendering time:\",render_time_recursive, \"seconds\")"
   ]
  },
  {
   "cell_type": "markdown",
   "id": "e8858650",
   "metadata": {},
   "source": [
    "3. Write a program to find the solution to the equation using iterative formula in the given"
   ]
  },
  {
   "cell_type": "code",
   "execution_count": 13,
   "id": "cebc5fcd",
   "metadata": {},
   "outputs": [
    {
     "name": "stdout",
     "output_type": "stream",
     "text": [
      "x: 2.000\n",
      "x: 2.154\n",
      "x: 2.097\n",
      "x: 2.119\n",
      "x: 2.111\n",
      "x: 2.114\n",
      "x: 2.113\n",
      "There is a Solution found: x: 2.113\n"
     ]
    }
   ],
   "source": [
    "import math\n",
    "\n",
    "def solve_equation(x):\n",
    "    return (20 - 5 * x) ** (1/3)\n",
    "\n",
    "initial_value = 2\n",
    "max_iterations = 100\n",
    "\n",
    "while True:\n",
    "    next_value = solve_equation(initial_value)\n",
    "\n",
    "    print(f\"x: {initial_value:.3f}\")\n",
    "\n",
    "    if abs(next_value - initial_value) < 0.001:\n",
    "        print(f\"There is a Solution found: x: {next_value:.3f}\")\n",
    "        break\n",
    "\n",
    "    initial_value = next_value\n",
    "\n",
    "    if max_iterations == 0:\n",
    "        print(\"No solution found.\")\n",
    "        break\n",
    "    else:\n",
    "        max_iterations -= 1"
   ]
  },
  {
   "cell_type": "code",
   "execution_count": null,
   "id": "11c1e424",
   "metadata": {},
   "outputs": [],
   "source": []
  }
 ],
 "metadata": {
  "kernelspec": {
   "display_name": "Python 3 (ipykernel)",
   "language": "python",
   "name": "python3"
  },
  "language_info": {
   "codemirror_mode": {
    "name": "ipython",
    "version": 3
   },
   "file_extension": ".py",
   "mimetype": "text/x-python",
   "name": "python",
   "nbconvert_exporter": "python",
   "pygments_lexer": "ipython3",
   "version": "3.11.2"
  }
 },
 "nbformat": 4,
 "nbformat_minor": 5
}
