{
 "cells": [
  {
   "cell_type": "code",
   "execution_count": 81,
   "id": "475a0216",
   "metadata": {},
   "outputs": [
    {
     "name": "stdout",
     "output_type": "stream",
     "text": [
      "-33600\n"
     ]
    }
   ],
   "source": [
    "import math\n",
    "def multiply(product):\n",
    "    list = [5,6,-1,2,4,-2,-10,7]   \n",
    "    times = 1\n",
    "    for x in list:\n",
    "        times = times * x\n",
    "    return times\n",
    "\n",
    "print(multiply(list))\n",
    "\n",
    "    \n",
    "        \n",
    "        "
   ]
  },
  {
   "cell_type": "code",
   "execution_count": 37,
   "id": "7eeaab67",
   "metadata": {},
   "outputs": [
    {
     "name": "stdout",
     "output_type": "stream",
     "text": [
      "+ - - - - + - - - - + - - - - + - - - - +\n",
      "|         |         |         |         |\n",
      "|         |         |         |         |\n",
      "|         |         |         |         |\n",
      "|         |         |         |         |\n",
      "+ - - - - + - - - - + - - - - + - - - - +\n",
      "|         |         |         |         |\n",
      "|         |         |         |         |\n",
      "|         |         |         |         |\n",
      "|         |         |         |         |\n",
      "+ - - - - + - - - - + - - - - + - - - - +\n",
      "|         |         |         |         |\n",
      "|         |         |         |         |\n",
      "|         |         |         |         |\n",
      "|         |         |         |         |\n",
      "+ - - - - + - - - - + - - - - + - - - - +\n",
      "|         |         |         |         |\n",
      "|         |         |         |         |\n",
      "|         |         |         |         |\n",
      "|         |         |         |         |\n",
      "+ - - - - + - - - - + - - - - + - - - - +\n"
     ]
    }
   ],
   "source": [
    "def print_once(bruce):\n",
    "    print(bruce)\n",
    "\n",
    "def print_twice(mot):\n",
    "    print(mot)\n",
    "    print(mot)\n",
    "    \n",
    "def print_twice(mot):\n",
    "    print(mot)\n",
    "    print(mot)\n",
    "    \n",
    "def print_once(bruce):\n",
    "    print(bruce)\n",
    "    \n",
    "def print_twice(mot):\n",
    "    print(mot)\n",
    "    print(mot)\n",
    "    \n",
    "def print_twice(mot):\n",
    "    print(mot)\n",
    "    print(mot)\n",
    "    \n",
    "def print_once(bruce):\n",
    "    print(bruce)\n",
    "\n",
    "def print_twice(mot):\n",
    "    print(mot)\n",
    "    print(mot)\n",
    "    \n",
    "def print_twice(mot):\n",
    "    print(mot)\n",
    "    print(mot)\n",
    "    \n",
    "def print_once(bruce):\n",
    "    print(bruce)\n",
    "    \n",
    "def print_twice(mot):\n",
    "    print(mot)\n",
    "    print(mot)\n",
    "    \n",
    "def print_twice(mot):\n",
    "    print(mot)\n",
    "    print(mot)\n",
    "    \n",
    "def print_once(bruce):\n",
    "    print(bruce)\n",
    "    \n",
    "    \n",
    "print_once('+ - - - - + - - - - + - - - - + - - - - +')\n",
    "print_twice('|         |         |         |         |')\n",
    "print_twice('|         |         |         |         |')\n",
    "print_once('+ - - - - + - - - - + - - - - + - - - - +')\n",
    "print_twice('|         |         |         |         |')\n",
    "print_twice('|         |         |         |         |')\n",
    "print_once('+ - - - - + - - - - + - - - - + - - - - +')\n",
    "print_twice('|         |         |         |         |')\n",
    "print_twice('|         |         |         |         |')\n",
    "print_once('+ - - - - + - - - - + - - - - + - - - - +')\n",
    "print_twice('|         |         |         |         |')\n",
    "print_twice('|         |         |         |         |')\n",
    "print_once('+ - - - - + - - - - + - - - - + - - - - +')\n",
    "    "
   ]
  },
  {
   "cell_type": "code",
   "execution_count": null,
   "id": "7f3b6d1d",
   "metadata": {},
   "outputs": [],
   "source": []
  },
  {
   "cell_type": "code",
   "execution_count": null,
   "id": "dd6d5e74",
   "metadata": {},
   "outputs": [],
   "source": []
  }
 ],
 "metadata": {
  "kernelspec": {
   "display_name": "Python 3 (ipykernel)",
   "language": "python",
   "name": "python3"
  },
  "language_info": {
   "codemirror_mode": {
    "name": "ipython",
    "version": 3
   },
   "file_extension": ".py",
   "mimetype": "text/x-python",
   "name": "python",
   "nbconvert_exporter": "python",
   "pygments_lexer": "ipython3",
   "version": "3.11.2"
  }
 },
 "nbformat": 4,
 "nbformat_minor": 5
}
